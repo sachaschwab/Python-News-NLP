{
 "cells": [
  {
   "cell_type": "markdown",
   "metadata": {},
   "source": [
    "# Python-News-NLP\n",
    "\n",
    "Code walkthrough and comments\n",
    "\n",
    "## Background\n",
    "\n",
    "NLP text processing is fundamental in Data Science. This project aims at providing a number of NLP methods in one, so you don't need to bother programming your own lines on\n",
    "- Preprocessing\n",
    "- Sentiment analysis\n",
    "- Keyword extraction (classical and with Spacy)\n",
    "- Named entity extraction (using Spacy)\n",
    "\n",
    "## Overview\n",
    "\n"
   ]
  },
  {
   "cell_type": "code",
   "execution_count": null,
   "metadata": {},
   "outputs": [],
   "source": []
  },
  {
   "cell_type": "code",
   "execution_count": null,
   "metadata": {},
   "outputs": [],
   "source": []
  }
 ],
 "metadata": {
  "language_info": {
   "name": "python"
  },
  "orig_nbformat": 4
 },
 "nbformat": 4,
 "nbformat_minor": 2
}
